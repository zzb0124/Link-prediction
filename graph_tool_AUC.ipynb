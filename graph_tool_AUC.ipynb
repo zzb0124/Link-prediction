{
 "cells": [
  {
   "cell_type": "code",
   "execution_count": 1,
   "id": "4cc7e91d",
   "metadata": {},
   "outputs": [],
   "source": [
    "import graph_tool as gt\n",
    "import numpy as np\n",
    "from graph_tool import collection,inference,generation\n",
    "import matplotlib.pyplot as plt\n",
    "import random"
   ]
  },
  {
   "cell_type": "code",
   "execution_count": 2,
   "id": "e9400419",
   "metadata": {},
   "outputs": [
    {
     "data": {
      "text/plain": [
       "<bound method Graph.reindex_edges of <Graph object, undirected, with 89 vertices and 1911 edges, 1 internal vertex property, 2 internal edge properties, at 0x7f4e09035160>>"
      ]
     },
     "execution_count": 2,
     "metadata": {},
     "output_type": "execute_result"
    }
   ],
   "source": [
    "G = gt.load_graph_from_csv('ants_data.csv',eprop_types=[\"int\",\"int\"],\n",
    "                           eprop_names=[\"StartTime\",\"EndTime\"],skip_first=True)\n",
    "G.num_edges()\n",
    "G.reindex_edges"
   ]
  },
  {
   "cell_type": "code",
   "execution_count": 3,
   "id": "b473f5dc",
   "metadata": {},
   "outputs": [],
   "source": [
    "def is_missing(G,i,j):\n",
    "    '''If i,j are linked in graph G, return false, otherwise true.'''\n",
    "    if G.edge(i,j) or G.edge(j,i):\n",
    "        return False\n",
    "    else:\n",
    "        return True\n",
    "    \n",
    "def missing_edge(G):\n",
    "    '''Return a list of all missing links in G.'''\n",
    "    n = G.num_vertices()\n",
    "    new_edge = []\n",
    "    for i in range(n):\n",
    "        for j in range(i+1,n):\n",
    "            if is_missing(G,i,j):\n",
    "                new_edge.append((i,j))\n",
    "    # new_edge = [[i,j] for i in range(n) for j in range(i+1,n) if [i,j] not in edges]\n",
    "    return new_edge\n",
    "\n",
    "def simplify(G):\n",
    "    '''Remove multiple links in Grpah G.'''\n",
    "    H = G.copy()\n",
    "    H.clear_edges()\n",
    "    for e in G.edges():\n",
    "        if is_missing(H,e.source(),e.target()):\n",
    "            if e.source() < e.target():\n",
    "                H.add_edge(e.source(),e.target())\n",
    "            else:\n",
    "                H.add_edge(e.target(),e.source())\n",
    "    return H"
   ]
  },
  {
   "cell_type": "code",
   "execution_count": 4,
   "id": "3e31f391",
   "metadata": {},
   "outputs": [],
   "source": [
    "def missing_edge_prob(G):\n",
    "    '''Return the probability of all missing links being added.'''\n",
    "    print(1)\n",
    "    missing_edges = missing_edge(G)\n",
    "    state = gt.inference.minimize_nested_blockmodel_dl(G,state_args=dict(deg_corr=False))\n",
    "    probs = [[] for b in range(len(missing_edges))]\n",
    "    def collect_edge_probs(s):\n",
    "        for i in range(len(missing_edges)):\n",
    "            p = s.get_edges_prob([missing_edges[i]], entropy_args=dict(partition_dl=False))\n",
    "            probs[i].append(p)\n",
    "    gt.inference.mcmc_equilibrate(state, force_niter=800, mcmc_args=dict(niter=10),\n",
    "                    callback=collect_edge_probs)\n",
    "    def get_avg(p):\n",
    "        p = np.array(p)\n",
    "        pmax = p.max()\n",
    "        p -= pmax\n",
    "        return pmax + np.log(np.exp(p).mean())\n",
    "    pn =  [get_avg(probs[n]) for n in range(len(missing_edges))]\n",
    "    p_sum = get_avg(pn) + np.log(len(pn))\n",
    "    return {missing_edges[i]:np.exp(pn[i]-p_sum) for i in range(len(pn))}"
   ]
  },
  {
   "cell_type": "code",
   "execution_count": 5,
   "id": "9af53af6",
   "metadata": {},
   "outputs": [],
   "source": [
    "def AUC(G,sample_number,probe_portion=0.1,precision=False):\n",
    "    '''AUC of SBM and if precision is True, precsion will also be computed and returned. \n",
    "       Arguments are similar to AUC implemented in networkx.'''\n",
    "    G.reindex_edges()\n",
    "    simpH = simplify(G)\n",
    "    edgelist = simpH.get_edges()\n",
    "    n = simpH.num_vertices()\n",
    "    ne = simpH.num_edges()\n",
    "    edgelistG = G.get_edges()\n",
    "    p = int(probe_portion*ne)\n",
    "    q = p//2\n",
    "    H = gt.Graph()\n",
    "    Hprobelinks = random.sample(list(edgelist),p)\n",
    "    #print(len(Hprobelinks))\n",
    "    #print(Hprobelinks)\n",
    "    remove_index = []\n",
    "    for a in Hprobelinks:\n",
    "        tobe_removed_edges = G.edge(a[0],a[1],all_edges=True) + G.edge(a[1],a[0],all_edges=True)\n",
    "        remove_index += [G.edge_index[e] for e in tobe_removed_edges]\n",
    "    edgelistG = np.delete(edgelistG,remove_index,0)\n",
    "    H.add_edge_list(edgelistG)\n",
    "    B = missing_edge_prob(H)\n",
    "    rank_list = list(B.values())\n",
    "    rank_list.sort(reverse=True)\n",
    "    Hpotential_links = missing_edge(G)\n",
    "    auc = 0\n",
    "    pre_list = np.zeros(9)\n",
    "    for m in range(sample_number):\n",
    "        probe_sample = random.sample(Hprobelinks,q)\n",
    "        potential_sample = random.sample(Hpotential_links,q)\n",
    "        m1,m2 = 0,0\n",
    "        L = 0\n",
    "        for i in range(q):\n",
    "            e1 = probe_sample[i]\n",
    "            e2 = potential_sample[i]\n",
    "            if B[e1[0],e1[1]] > B[e2[0],e2[1]]:\n",
    "                m1 += 1\n",
    "            elif B[e1[0],e1[1]] == B[e2[0],e2[1]]:\n",
    "                m2 += 1\n",
    "        auc += (m1 + 0.5*m2)/q\n",
    "    if precision:\n",
    "        L_list = np.array([len([e for e in Hprobelinks if B[e[0],e[1]] >= rank_list[int(p*tp)]]) \n",
    "                            for tp in np.arange(0.1,1,0.1)])\n",
    "        r_list = np.array([int(p*tp) for tp in np.arange(0.1,1,0.1)])\n",
    "        pre_list += L_list/r_list\n",
    "        return auc/sample_number,pre_list\n",
    "    else:\n",
    "        return auc/sample_number"
   ]
  },
  {
   "cell_type": "code",
   "execution_count": null,
   "id": "36ee9964",
   "metadata": {},
   "outputs": [
    {
     "name": "stdout",
     "output_type": "stream",
     "text": [
      "1\n"
     ]
    }
   ],
   "source": [
    "auc1 = [AUC(G,20,precision=True) for n in range(5)]\n",
    "np.save(\"ant_ndcauc1\",auc1)"
   ]
  },
  {
   "cell_type": "code",
   "execution_count": null,
   "id": "8c5a8801",
   "metadata": {},
   "outputs": [],
   "source": [
    "auc2 = [AUC(G,20,probe_portion=0.3,precision=True) for n in range(5)]\n",
    "np.save(\"ant_ndcauc2\",auc2)"
   ]
  },
  {
   "cell_type": "code",
   "execution_count": null,
   "id": "4229c7c9",
   "metadata": {},
   "outputs": [],
   "source": [
    "print(auc1)"
   ]
  },
  {
   "cell_type": "code",
   "execution_count": null,
   "id": "2377d509",
   "metadata": {},
   "outputs": [],
   "source": [
    "auc3 = [AUC(G,20,probe_portion=0.5,precision=True) for n in range(5)]\n",
    "np.save(\"ant_ndcauc3\",auc3)"
   ]
  },
  {
   "cell_type": "code",
   "execution_count": null,
   "id": "a10f836e",
   "metadata": {},
   "outputs": [],
   "source": [
    "print(auc2)"
   ]
  },
  {
   "cell_type": "code",
   "execution_count": null,
   "id": "b14da798",
   "metadata": {},
   "outputs": [],
   "source": [
    "auc4 = [AUC(G,20,probe_portion=0.9,precision=True) for n in range(5)]\n",
    "np.save(\"ant_ndcauc4\",auc4)"
   ]
  },
  {
   "cell_type": "code",
   "execution_count": null,
   "id": "3d4f0706",
   "metadata": {},
   "outputs": [],
   "source": [
    "print(auc3)"
   ]
  },
  {
   "cell_type": "code",
   "execution_count": null,
   "id": "f9b9c5c4",
   "metadata": {},
   "outputs": [],
   "source": [
    "print(auc4)"
   ]
  },
  {
   "cell_type": "code",
   "execution_count": null,
   "id": "555f69e7",
   "metadata": {},
   "outputs": [],
   "source": []
  }
 ],
 "metadata": {
  "kernelspec": {
   "display_name": "Python 3 (ipykernel)",
   "language": "python",
   "name": "python3"
  },
  "language_info": {
   "codemirror_mode": {
    "name": "ipython",
    "version": 3
   },
   "file_extension": ".py",
   "mimetype": "text/x-python",
   "name": "python",
   "nbconvert_exporter": "python",
   "pygments_lexer": "ipython3",
   "version": "3.9.6"
  }
 },
 "nbformat": 4,
 "nbformat_minor": 5
}
