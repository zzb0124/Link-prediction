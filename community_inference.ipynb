{
 "cells": [
  {
   "cell_type": "code",
   "execution_count": 2,
   "id": "d7981754",
   "metadata": {},
   "outputs": [],
   "source": [
    "import graph_tool as gt\n",
    "import numpy as np\n",
    "from graph_tool import collection,inference\n",
    "import matplotlib.pyplot as plt"
   ]
  },
  {
   "cell_type": "code",
   "execution_count": 8,
   "id": "04f2b86c",
   "metadata": {},
   "outputs": [],
   "source": [
    "G = gt.load_graph_from_csv('contact_Interaction2.csv',eprop_types=[\"int\",\"int\",\"int\"],\n",
    "                           eprop_names=[\"StartTime\",\"EndTime\",\"Duration\"],skip_first=True)\n",
    "Ga2 = G.copy()\n",
    "Ga2.remove_vertex(range(48,-1,-1))"
   ]
  },
  {
   "cell_type": "code",
   "execution_count": 13,
   "id": "89edffc7",
   "metadata": {},
   "outputs": [],
   "source": [
    "G = gt.load_graph_from_csv('ants_data.csv',eprop_types=[\"int\",\"int\"],\n",
    "                           eprop_names=[\"StartTime\",\"EndTime\"],skip_first=True)\n",
    "G.num_edges()\n",
    "G.set_fast_edge_removal(fast=True)"
   ]
  },
  {
   "cell_type": "code",
   "execution_count": 6,
   "id": "e7ea3d30",
   "metadata": {},
   "outputs": [
    {
     "name": "stdout",
     "output_type": "stream",
     "text": [
      "Non-degree-corrected DL:\t 4156.21502869132\n",
      "Degree-corrected DL:\t 4124.179157282323\n",
      "ln Λ in bee network:  32.03587140899708\n"
     ]
    }
   ],
   "source": [
    "state_ndc = gt.inference.minimize_nested_blockmodel_dl(Ga2, state_args=dict(deg_corr=False))\n",
    "state_dc  = gt.inference.minimize_nested_blockmodel_dl(Ga2, state_args=dict(deg_corr=True))\n",
    "\n",
    "print(\"Non-degree-corrected DL:\\t\", state_ndc.entropy())\n",
    "print(\"Degree-corrected DL:\\t\", state_dc.entropy())\n",
    "print(u\"ln \\u039b in bee network: \", state_ndc.entropy() - state_dc.entropy())"
   ]
  },
  {
   "cell_type": "code",
   "execution_count": 20,
   "id": "3ca8cbe2",
   "metadata": {},
   "outputs": [
    {
     "name": "stdout",
     "output_type": "stream",
     "text": [
      "Non-degree-corrected DL:\t 3188.3785206050416\n",
      "Degree-corrected DL:\t 3149.1488978435655\n",
      "ln Λ in ant network:  39.229622761476094\n"
     ]
    }
   ],
   "source": [
    "state_ndc = gt.inference.minimize_nested_blockmodel_dl(G, state_args=dict(deg_corr=False))\n",
    "state_dc  = gt.inference.minimize_nested_blockmodel_dl(G, state_args=dict(deg_corr=True))\n",
    "\n",
    "print(\"Non-degree-corrected DL:\\t\", state_ndc.entropy())\n",
    "print(\"Degree-corrected DL:\\t\", state_dc.entropy())\n",
    "print(u\"ln \\u039b in ant network: \", state_ndc.entropy() - state_dc.entropy())"
   ]
  },
  {
   "cell_type": "code",
   "execution_count": 5,
   "id": "f2713f85",
   "metadata": {},
   "outputs": [
    {
     "name": "stdout",
     "output_type": "stream",
     "text": [
      "l: 0, N: 89, B: 44\n",
      "l: 1, N: 44, B: 7\n",
      "l: 2, N: 7, B: 1\n",
      "l: 3, N: 1, B: 1\n"
     ]
    }
   ],
   "source": [
    "state = gt.inference.minimize_nested_blockmodel_dl(G, state_args=dict(deg_corr=False))\n",
    "state.print_summary()"
   ]
  },
  {
   "cell_type": "code",
   "execution_count": 6,
   "id": "d329e405",
   "metadata": {},
   "outputs": [
    {
     "data": {
      "image/png": "[encoded data removed]",
      "text/plain": [
       "<Figure size 432x288 with 3 Axes>"
      ]
     },
     "metadata": {
      "needs_background": "light"
     },
     "output_type": "display_data"
    }
   ],
   "source": [
    "h = [np.zeros(G.num_vertices() + 1) for s in state.get_levels()]\n",
    "\n",
    "def collect_num_groups(s):\n",
    "    for l, sl in enumerate(s.get_levels()):\n",
    "        B = sl.get_nonempty_B()\n",
    "        h[l][B] += 1\n",
    "\n",
    "# Now we collect the marginal distribution for exactly 100,000 sweeps\n",
    "gt.inference.mcmc_equilibrate(state, force_niter=5000, mcmc_args=dict(niter=10),\n",
    "                    callback=collect_num_groups)\n",
    "fig,ax = plt.subplots()\n",
    "fig.suptitle(\"Number of blocks with poseterior probability in each layer in ant network\")\n",
    "plt.subplot(131)\n",
    "index_nonempty1 = [i for i in range(len(h[1])) if h[1][i]]\n",
    "nonempty_h1 = np.array([i for i in h[1] if i])\n",
    "plt.bar(index_nonempty1,nonempty_h1/sum(h[1]))\n",
    "plt.xlabel(r\"$B_0$\")\n",
    "plt.ylabel(r\"$P(B_0|G)$\")\n",
    "plt.subplot(132)\n",
    "index_nonempty2 = [i for i in range(len(h[2])) if h[2][i]]\n",
    "nonempty_h2 = np.array([i for i in h[2] if i])\n",
    "plt.bar(index_nonempty2,nonempty_h2/sum(h[2]))\n",
    "plt.xlabel(r\"$B_1$\")\n",
    "plt.ylabel(r\"$P(B_1|G)$\")\n",
    "plt.subplot(133)\n",
    "index_nonempty3 = [i for i in range(len(h[3])) if h[3][i]]\n",
    "nonempty_h3 = np.array([i for i in h[3] if i])\n",
    "plt.bar(index_nonempty3,nonempty_h3/sum(h[3]))\n",
    "plt.xlabel(r\"$B_2$\")\n",
    "plt.ylabel(r\"$P(B_2|G)$\")\n",
    "fig.tight_layout()"
   ]
  },
  {
   "cell_type": "code",
   "execution_count": 5,
   "id": "9d12c741",
   "metadata": {},
   "outputs": [
    {
     "data": {
      "image/png": "[encoded data removed]",
      "text/plain": [
       "<Figure size 432x288 with 2 Axes>"
      ]
     },
     "metadata": {
      "needs_background": "light"
     },
     "output_type": "display_data"
    }
   ],
   "source": [
    "state  = gt.inference.minimize_nested_blockmodel_dl(Ga2, state_args=dict(deg_corr=True))\n",
    "h = [np.zeros(Ga2.num_vertices() + 1) for s in state.get_levels()]\n",
    "def collect_num_groups(s):\n",
    "    for l, sl in enumerate(s.get_levels()):\n",
    "        B = sl.get_nonempty_B()\n",
    "        h[l][B] += 1\n",
    "\n",
    "# Now we collect the marginal distribution for exactly 100,000 sweeps\n",
    "gt.inference.mcmc_equilibrate(state, force_niter=10000, mcmc_args=dict(niter=10),\n",
    "                    callback=collect_num_groups)\n",
    "fig,ax = plt.subplots()\n",
    "fig.suptitle(\"Number of blocks with poseterior probability in bee network\")\n",
    "plt.subplot(121)\n",
    "index_nonempty0 = [i for i in range(len(h[0])) if h[0][i]]\n",
    "nonempty_h0 = np.array([i for i in h[0] if i])\n",
    "plt.bar(index_nonempty0,nonempty_h0/sum(h[0]))\n",
    "plt.xlabel(r\"$B_0$\")\n",
    "plt.ylabel(r\"$P(B_0)|G)$\")\n",
    "plt.subplot(122)\n",
    "index_nonempty1 = [i for i in range(len(h[1])) if h[1][i]]\n",
    "nonempty_h1 = np.array([i for i in h[1] if i])\n",
    "plt.bar(index_nonempty1,nonempty_h1/sum(h[1]))\n",
    "plt.xlabel(r\"$B_1$\")\n",
    "plt.ylabel(r\"$P(B_1|G)$\")\n",
    "fig.tight_layout()"
   ]
  },
  {
   "cell_type": "code",
   "execution_count": null,
   "id": "fd6e16cb",
   "metadata": {},
   "outputs": [],
   "source": []
  }
 ],
 "metadata": {
  "kernelspec": {
   "display_name": "Python 3",
   "language": "python",
   "name": "python3"
  },
  "language_info": {
   "codemirror_mode": {
    "name": "ipython",
    "version": 3
   },
   "file_extension": ".py",
   "mimetype": "text/x-python",
   "name": "python",
   "nbconvert_exporter": "python",
   "pygments_lexer": "ipython3",
   "version": "3.7.10"
  }
 },
 "nbformat": 4,
 "nbformat_minor": 5
}
